{
  "nbformat": 4,
  "nbformat_minor": 0,
  "metadata": {
    "colab": {
      "provenance": [],
      "authorship_tag": "ABX9TyM9KD2RpTNvO78KF0sTgDlF",
      "include_colab_link": true
    },
    "kernelspec": {
      "name": "python3",
      "display_name": "Python 3"
    },
    "language_info": {
      "name": "python"
    }
  },
  "cells": [
    {
      "cell_type": "markdown",
      "metadata": {
        "id": "view-in-github",
        "colab_type": "text"
      },
      "source": [
        "<a href=\"https://colab.research.google.com/github/EyaBey/Testtech/blob/main/Test_technique_EFFIOS_Expertise.ipynb\" target=\"_parent\"><img src=\"https://colab.research.google.com/assets/colab-badge.svg\" alt=\"Open In Colab\"/></a>"
      ]
    },
    {
      "cell_type": "code",
      "execution_count": null,
      "metadata": {
        "id": "2w8UNHvDRbLo"
      },
      "outputs": [],
      "source": [
        "#1-Ecrire un code python permettant de lister toutes les combinaisons possibles associées à 23 étapes correspondant à des variables logiques (VRAI/FAUX) puis  d'insérer le résultat dans une table appelée “Combinaisons”\n",
        "\n",
        "import itertools\n",
        "import pandas as pd\n",
        "\n",
        "# Étapes\n",
        "etapes = [\n",
        "    \"1.1\", \"1.2\", \"1.3\",\n",
        "    \"2.1\", \"2.2\",\n",
        "    \"3.1\", \"3.2\", \"3.3\", \"3.4\", \"3.5\", \"3.6\",\n",
        "    \"4.1\", \"4.2\", \"4.3\", \"4.4\",\n",
        "    \"5.1\", \"5.2\", \"5.3\", \"5.4\", \"5.5\",\n",
        "    \"6.1\", \"6.2\", \"6.3\", \"6.4\"\n",
        "]\n",
        "\n",
        "combinaisons = list(itertools.product([True, False], repeat=len(etapes)))\n",
        "\n",
        "df_combinaisons = pd.DataFrame(combinaisons, columns=etapes)\n",
        "\n",
        "df_combinaisons.to_csv(\"Combinaisons.csv\", index=False)"
      ]
    },
    {
      "cell_type": "code",
      "source": [
        "#2-Traduire les règles de gestion métier (des statuts et des sous-statuts) en écriture logique compréhensible par Python et les insérer dans une table appelée “Regles”\n",
        "regles = {\n",
        "    \"Information avant accrochage\": \"((not df['1.3']) and (not df['6.4']) and (df['1.1'] or df['1.2']))\",\n",
        "    \"En cours d'accrochage\": \"((df['1.1'] and df['1.2'] and df['1.3']) and not (df['2.1'] and df['2.2'] and df['3.1'] and df['3.2'] and df['3.3'] and df['3.4'] and df['3.5'] and df['4.1'] and df['4.2'] and df['4.3'] and df['4.4'] and df['5.1'] and df['5.2'] and df['5.3'] and df['5.4'] and df['5.5']) and not df['6.4'])\",\n",
        "    \"En cours d'accrochage > Initialisation du projet d'accrochage\": \"((df['1.1'] and df['1.2'] and df['1.3']) and not df['2.1'] and not df['2.2'] and not df['3.1'] and not df['3.2'] and not df['3.3'] and not df['3.4'] and not df['3.5'] and not df['4.1'] and not df['4.2'] and not df['4.3'] and not df['4.4'] and not df['5.1'] and not df['5.2'] and not df['5.3'] and not df['5.4'] and not df['5.5'] and not df['6.4'])\",\n",
        "    \"En cours d'accrochage > Accrochage technique\": \"((df['1.1'] and df['1.2'] and df['1.3']) and df['2.1'] and df['2.2'] and not df['3.1'] and not df['3.2'] and not df['3.3'] and not df['3.4'] and not df['3.5'] and not df['4.1'] and not df['4.2'] and not df['4.3'] and not df['4.4'] and not df['5.1'] and not df['5.2'] and not df['5.3'] and not df['5.4'] and not df['5.5'] and not df['6.4'])\",\n",
        "    \"En cours d'accrochage > Validation de conformité\": \"((df['1.1'] and df['1.2'] and df['1.3']) and df['2.1'] and df['2.2'] and df['3.1'] and df['3.2'] and df['3.3'] and df['3.4'] and df['3.5'] and not df['4.1'] and not df['4.2'] and not df['4.3'] and not df['4.4'] and not df['5.1'] and not df['5.2'] and not df['5.3'] and not df['5.4'] and not df['5.5'] and not df['6.4'])\",\n",
        "    \"En cours d'accrochage > Mise en production\": \"((df['1.1'] and df['1.2'] and df['1.3']) and df['2.1'] and df['2.2'] and df['3.1'] and df['3.2'] and df['3.3'] and df['3.4'] and df['3.5'] and df['4.1'] and df['4.2'] and df['4.3'] and df['4.4'] and not df['5.1'] and not df['5.2'] and not df['5.3'] and not df['5.4'] and not df['5.5'] and not df['6.4'])\",\n",
        "    \"En production\": \"((df['1.1'] and df['1.2'] and df['1.3']) and df['3.5'] and df['4.1'] and df['4.2'] and df['5.1'] and df['5.2'] and df['5.3'] and df['5.4'] and df['5.5'] and not df['6.4'])\",\n",
        "    \"En production - OK\": \"((df['1.1'] and df['1.2'] and df['1.3']) and df['5.5'] and not df['6.4'])\",\n",
        "    \"En production - Adaptations spécifiques\": \"((df['1.1'] and df['1.2'] and df['1.3']) and df['3.5'] and not df['3.6'] and df['4.1'] and df['5.5'] and not df['6.4'])\",\n",
        "    \"En production - Requalification CA\": \"((df['1.1'] and df['1.2'] and df['1.3']) and df['3.5'] and df['4.1'] and df['4.2'] and (not df['4.3'] or not df['4.4']) and df['5.1'] and df['5.5'] and not df['6.4'])\",\n",
        "    \"Accrochage stoppé\": \"(df['6.4'])\"\n",
        "}\n",
        "\n",
        "\n",
        "df_regles = pd.DataFrame(regles.items(), columns=[\"Statut/sous-statut\", \"Regle\"])\n",
        "\n",
        "df_regles.to_csv(\"Regles.csv\", index=False)"
      ],
      "metadata": {
        "id": "fxKI-4MaRc3M"
      },
      "execution_count": null,
      "outputs": []
    },
    {
      "cell_type": "code",
      "source": [
        "#3- Ecrire un code permettant de vérifier des correspondances \"combinaison-regle\"...\n",
        "import pandas as pd\n",
        "\n",
        "df_combinaisons = pd.read_csv(\"Combinaisons.csv\")\n",
        "df_regles = pd.read_csv(\"Regles.csv\")\n",
        "\n",
        "correspondances = []\n",
        "\n",
        "for index_combinaison, combinaison in df_combinaisons.iterrows():\n",
        "    for index_regle, regle in df_regles.iterrows():\n",
        "        if eval(regle[\"Regle\"], {\"df\": combinaison}):\n",
        "            correspondances.append({\"Combinaison\": index_combinaison, \"Regle\": regle[\"Statut/sous-statut\"]})\n",
        "\n",
        "df_correspondances = pd.DataFrame(correspondances)\n",
        "\n",
        "df_correspondances.to_csv(\"correspondance_combinaison_regle.csv\", index=False)"
      ],
      "metadata": {
        "id": "zQtn2H7LRc-t"
      },
      "execution_count": null,
      "outputs": []
    }
  ]
}