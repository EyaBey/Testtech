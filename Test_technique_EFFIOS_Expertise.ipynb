{
  "nbformat": 4,
  "nbformat_minor": 0,
  "metadata": {
    "colab": {
      "provenance": [],
      "authorship_tag": "ABX9TyNFeykNPqT2/OwuqwTcWXOo",
      "include_colab_link": true
    },
    "kernelspec": {
      "name": "python3",
      "display_name": "Python 3"
    },
    "language_info": {
      "name": "python"
    }
  },
  "cells": [
    {
      "cell_type": "markdown",
      "metadata": {
        "id": "view-in-github",
        "colab_type": "text"
      },
      "source": [
        "<a href=\"https://colab.research.google.com/github/EyaBey/Testtech/blob/main/Test_technique_EFFIOS_Expertise.ipynb\" target=\"_parent\"><img src=\"https://colab.research.google.com/assets/colab-badge.svg\" alt=\"Open In Colab\"/></a>"
      ]
    },
    {
      "cell_type": "code",
      "execution_count": null,
      "metadata": {
        "id": "IjMHk4HbYf9a"
      },
      "outputs": [],
      "source": [
        "#Question 1 :Ecrire un code python permettant de lister toutes les combinaisons possibles associées à 23 étapes correspondant à des variables logiques (VRAI/FAUX) puis  d'insérer le résultat dans une table appelée “Combinaisons”\n",
        "\n",
        "import itertools\n",
        "import sqlite3\n",
        "\n",
        "etapes = [\"Étape_\" + str(i) for i in range(1, 24)]\n",
        "\n",
        "combinaisons = list(itertools.product([True, False], repeat=23))\n",
        "\n",
        "conn = sqlite3.connect('ma_base_de_données.db')\n",
        "cursor = conn.cursor()\n",
        "\n",
        "cursor.execute('''CREATE TABLE IF NOT EXISTS Combinaisons (ID INTEGER PRIMARY KEY, {})'''.format(\", \".join(etapes)))\n",
        "\n",
        "for i, combinaison in enumerate(combinaisons, 1):\n",
        "    values = [int(step) for step in combinaison]\n",
        "    cursor.execute('''INSERT INTO Combinaisons ({}) VALUES ({})'''.format(\", \".join(etapes), \", \".join([\"?\" for _ in etapes])), values)\n",
        "\n",
        "conn.commit()\n",
        "conn.close()\n"
      ]
    },
    {
      "cell_type": "code",
      "source": [
        "#ici juste pour verifier que les données sont correctement inserées\n",
        "import sqlite3\n",
        "\n",
        "conn = sqlite3.connect('ma_base_de_données.db')\n",
        "cursor = conn.cursor()\n",
        "\n",
        "cursor.execute('''SELECT COUNT(*) FROM Combinaisons''')\n",
        "result = cursor.fetchone()[0]\n",
        "conn.close()\n",
        "\n",
        "if result == len(combinaisons):\n",
        "    print(\"Les combinaisons ont été correctement insérées dans la table.\")\n",
        "else:\n",
        "    print(\"Il y a une erreur dans l'insertion des combinaisons dans la table.\")"
      ],
      "metadata": {
        "colab": {
          "base_uri": "https://localhost:8080/"
        },
        "id": "HHYBkDgue7r_",
        "outputId": "6835f204-6d1e-4618-b2e6-043f9075ab68"
      },
      "execution_count": null,
      "outputs": [
        {
          "output_type": "stream",
          "name": "stdout",
          "text": [
            "Les combinaisons ont été correctement insérées dans la table.\n"
          ]
        }
      ]
    },
    {
      "cell_type": "code",
      "source": [
        "#Question 2 :Traduire les règles de gestion métier (des statuts et des sous-statuts) en écriture logique compréhensible par Python et les insérer dans une table appelée “Regles”\n",
        "import sqlite3\n",
        "\n",
        "regles = {\n",
        "    \"Statut\": {\n",
        "        \"Information avant accrochage\": lambda etapes: etapes[0] and etapes[1] and not etapes[2],\n",
        "        \"En cours d'accrochage\": lambda etapes: (etapes[0] and etapes[1]) or etapes[2],\n",
        "        \"En production\": lambda etapes: etapes[3],\n",
        "        \"Stoppé\": lambda etapes: not etapes[0] and not etapes[1] and not etapes[2] and not etapes[3]\n",
        "    },\n",
        "    \"Sous-Statut\": {\n",
        "        \"En cours d'accrochage - Initialisation du projet d'accrochage\": lambda etapes: etapes[0] and not etapes[1] and not etapes[2],\n",
        "        \"En cours d'accrochage - Accrochage technique\": lambda etapes: etapes[0] and etapes[1] and not etapes[2],\n",
        "        \"En cours d'accrochage - Mise en production\": lambda etapes: etapes[0] and etapes[1] and etapes[2],\n",
        "        \"En production - OK\": lambda etapes: etapes[3] and not etapes[4] and not etapes[5],\n",
        "        \"En production - Adaptations spécifiques\": lambda etapes: etapes[3] and etapes[4] and not etapes[5],\n",
        "        \"En production - Requalification CA\": lambda etapes: etapes[3] and not etapes[4] and etapes[5]\n",
        "    }\n",
        "}\n",
        "\n",
        "conn = sqlite3.connect('ma_base_de_données.db')\n",
        "cursor = conn.cursor()\n",
        "\n",
        "cursor.execute('''CREATE TABLE IF NOT EXISTS Regles (ID INTEGER PRIMARY KEY, Type TEXT, Nom TEXT, Regle TEXT)''')\n",
        "\n",
        "for type_statut, regles_statut in regles.items():\n",
        "    for nom, regle in regles_statut.items():\n",
        "        cursor.execute('''INSERT INTO Regles (Type, Nom, Regle) VALUES (?, ?, ?)''', (type_statut, nom, regle.__doc__))\n",
        "\n",
        "conn.commit()\n",
        "conn.close()\n"
      ],
      "metadata": {
        "id": "h7Lli2VVZTig"
      },
      "execution_count": null,
      "outputs": []
    },
    {
      "cell_type": "code",
      "source": [
        "#Question 3 :Ecrire un code permettant de vérifier des correspondances \"combinaison-regle\" ...\n",
        "\n",
        "import sqlite3\n",
        "\n",
        "def validate_combination(combination, rule):\n",
        "    if rule is not None:\n",
        "        return rule(combination)\n",
        "    else:\n",
        "        return False\n",
        "\n",
        "conn = sqlite3.connect('ma_base_de_données.db')\n",
        "cursor = conn.cursor()\n",
        "\n",
        "cursor.execute('''CREATE TABLE IF NOT EXISTS correspondance_combinaison_regle (CombinaisonID INTEGER, RegleID INTEGER)''')\n",
        "\n",
        "cursor.execute('''SELECT * FROM Combinaisons''')\n",
        "combinations = cursor.fetchall()\n",
        "cursor.execute('''SELECT * FROM Regles''')\n",
        "rules = cursor.fetchall()\n",
        "\n",
        "for combination in combinations:\n",
        "    for rule in rules:\n",
        "        if validate_combination(combination[1:], rule[3]):\n",
        "            cursor.execute('''INSERT INTO correspondance_combinaison_regle (CombinaisonID, RegleID) VALUES (?, ?)''', (combination[0], rule[0]))\n",
        "\n",
        "conn.commit()\n",
        "conn.close()\n"
      ],
      "metadata": {
        "id": "GFhPw0exaPQI"
      },
      "execution_count": null,
      "outputs": []
    },
    {
      "cell_type": "code",
      "source": [],
      "metadata": {
        "id": "TNSvv94uag21"
      },
      "execution_count": null,
      "outputs": []
    }
  ]
}